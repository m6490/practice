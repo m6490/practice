{
 "cells": [
  {
   "cell_type": "code",
   "execution_count": 3,
   "id": "05b74cbe",
   "metadata": {},
   "outputs": [
    {
     "name": "stdout",
     "output_type": "stream",
     "text": [
      "Opened Database Successfully\n"
     ]
    }
   ],
   "source": [
    "import sqlite3\n",
    "conn=sqlite3.connect(\"AnyDatabase.db\")\n",
    "print(\"Opened Database Successfully\")"
   ]
  },
  {
   "cell_type": "code",
   "execution_count": 4,
   "id": "bbd5e39e",
   "metadata": {},
   "outputs": [
    {
     "data": {
      "text/plain": [
       "<sqlite3.Cursor at 0x19f54661880>"
      ]
     },
     "execution_count": 4,
     "metadata": {},
     "output_type": "execute_result"
    }
   ],
   "source": [
    "conn.execute(\"CREATE TABLE Employees(ID INT PRIMARY KEY, NAME TEXT,AGE INT, ADDRESS TEXT,SALARY REAL)\")"
   ]
  },
  {
   "cell_type": "code",
   "execution_count": 6,
   "id": "b0044c2a",
   "metadata": {},
   "outputs": [
    {
     "data": {
      "text/plain": [
       "<sqlite3.Cursor at 0x19f546618f0>"
      ]
     },
     "execution_count": 6,
     "metadata": {},
     "output_type": "execute_result"
    }
   ],
   "source": [
    "conn.execute(\"insert into Employees(ID,NAME,AGE,ADDRESS,SALARY) VALUES(1,'Ajeet',27,'Delhi',20000.00)\")"
   ]
  },
  {
   "cell_type": "code",
   "execution_count": 8,
   "id": "9eb2cae7",
   "metadata": {},
   "outputs": [
    {
     "data": {
      "text/plain": [
       "<sqlite3.Cursor at 0x19f561e3ea0>"
      ]
     },
     "execution_count": 8,
     "metadata": {},
     "output_type": "execute_result"
    }
   ],
   "source": [
    "conn.execute(\"insert into Employees(ID,NAME,AGE,ADDRESS,SALARY) VALUES(2,'Allen',22,'London',25000.00)\")"
   ]
  },
  {
   "cell_type": "code",
   "execution_count": 9,
   "id": "f86402e7",
   "metadata": {},
   "outputs": [
    {
     "data": {
      "text/plain": [
       "<sqlite3.Cursor at 0x19f561e3c00>"
      ]
     },
     "execution_count": 9,
     "metadata": {},
     "output_type": "execute_result"
    }
   ],
   "source": [
    "conn.execute(\"insert into Employees(ID,NAME,AGE,ADDRESS,SALARY) VALUES(3,'Mark',29,'CA',200000.00)\")"
   ]
  },
  {
   "cell_type": "code",
   "execution_count": 10,
   "id": "dc038087",
   "metadata": {},
   "outputs": [
    {
     "data": {
      "text/plain": [
       "<sqlite3.Cursor at 0x19f561e3b20>"
      ]
     },
     "execution_count": 10,
     "metadata": {},
     "output_type": "execute_result"
    }
   ],
   "source": [
    "conn.execute(\"insert into Employees(ID,NAME,AGE,ADDRESS,SALARY) VALUES(4,'Kanchan',22,'Ghaziabad',65000.00)\")"
   ]
  },
  {
   "cell_type": "code",
   "execution_count": 11,
   "id": "214a91d7",
   "metadata": {},
   "outputs": [],
   "source": [
    "conn.commit()"
   ]
  },
  {
   "cell_type": "code",
   "execution_count": null,
   "id": "4411904b",
   "metadata": {},
   "outputs": [],
   "source": [
    "#Dispalying contents"
   ]
  },
  {
   "cell_type": "code",
   "execution_count": 12,
   "id": "d4a3d915",
   "metadata": {},
   "outputs": [
    {
     "name": "stdout",
     "output_type": "stream",
     "text": [
      "(1, 'Ajeet', 27, 'Delhi', 20000.0)\n",
      "(2, 'Allen', 22, 'London', 25000.0)\n",
      "(3, 'Mark', 29, 'CA', 200000.0)\n",
      "(4, 'Kanchan', 22, 'Ghaziabad', 65000.0)\n"
     ]
    }
   ],
   "source": [
    "results=conn.execute(\"SELECT * FROM Employees\")\n",
    "for i in results:\n",
    "    print(i)"
   ]
  },
  {
   "cell_type": "code",
   "execution_count": null,
   "id": "f1a4ecda",
   "metadata": {},
   "outputs": [],
   "source": []
  },
  {
   "cell_type": "code",
   "execution_count": 13,
   "id": "ce29c969",
   "metadata": {},
   "outputs": [
    {
     "name": "stdout",
     "output_type": "stream",
     "text": [
      "(1, 'Ajeet')\n",
      "(2, 'Allen')\n",
      "(3, 'Mark')\n",
      "(4, 'Kanchan')\n"
     ]
    }
   ],
   "source": [
    "results=conn.execute(\"SELECT ID,NAME FROM Employees\")\n",
    "for i in results:\n",
    "    print(i)"
   ]
  },
  {
   "cell_type": "code",
   "execution_count": null,
   "id": "75835a7b",
   "metadata": {},
   "outputs": [],
   "source": []
  },
  {
   "cell_type": "code",
   "execution_count": 14,
   "id": "4c19d291",
   "metadata": {},
   "outputs": [
    {
     "name": "stdout",
     "output_type": "stream",
     "text": [
      "('Ajeet', 27, 'Delhi')\n",
      "('Allen', 22, 'London')\n",
      "('Mark', 29, 'CA')\n",
      "('Kanchan', 22, 'Ghaziabad')\n"
     ]
    }
   ],
   "source": [
    "results=conn.execute(\"SELECT NAME,AGE,ADDRESS FROM Employees\")\n",
    "for i in results:\n",
    "    print(i)"
   ]
  },
  {
   "cell_type": "code",
   "execution_count": null,
   "id": "32352381",
   "metadata": {},
   "outputs": [],
   "source": []
  },
  {
   "cell_type": "code",
   "execution_count": 19,
   "id": "e0f07cac",
   "metadata": {},
   "outputs": [
    {
     "name": "stdout",
     "output_type": "stream",
     "text": [
      "(3, 'Mark', 29, 'CA', 200000.0)\n"
     ]
    }
   ],
   "source": [
    "results=conn.execute(\"SELECT * FROM Employees WHERE NAME='Mark'\")\n",
    "for i in results:\n",
    "    print(i)"
   ]
  },
  {
   "cell_type": "code",
   "execution_count": 20,
   "id": "b025f2d5",
   "metadata": {},
   "outputs": [
    {
     "name": "stdout",
     "output_type": "stream",
     "text": [
      "(2, 'Allen', 22, 'London', 25000.0)\n"
     ]
    }
   ],
   "source": [
    "results=conn.execute(\"SELECT * FROM Employees WHERE address='London'\")\n",
    "for i in results:\n",
    "    print(i)"
   ]
  },
  {
   "cell_type": "code",
   "execution_count": 21,
   "id": "edeab8bd",
   "metadata": {},
   "outputs": [
    {
     "name": "stdout",
     "output_type": "stream",
     "text": [
      "('Mark', 29)\n"
     ]
    }
   ],
   "source": [
    "results=conn.execute(\"SELECT NAME,AGE FROM Employees WHERE NAME='Mark'\")\n",
    "for i in results:\n",
    "    print(i)"
   ]
  },
  {
   "cell_type": "code",
   "execution_count": 22,
   "id": "ca8b6c10",
   "metadata": {},
   "outputs": [
    {
     "name": "stdout",
     "output_type": "stream",
     "text": [
      "(2, 'Allen', 22, 'London', 25000.0)\n",
      "(3, 'Mark', 29, 'CA', 200000.0)\n"
     ]
    }
   ],
   "source": [
    "results=conn.execute(\"SELECT * FROM Employees WHERE NAME in('Mark','Allen')\")\n",
    "for i in results:\n",
    "    print(i)"
   ]
  },
  {
   "cell_type": "code",
   "execution_count": 25,
   "id": "0dc2944b",
   "metadata": {},
   "outputs": [
    {
     "name": "stdout",
     "output_type": "stream",
     "text": [
      "(1, 'Ajeet', 27, 'Delhi', 20000.0)\n",
      "(2, 'Allen', 22, 'London', 25000.0)\n",
      "(4, 'Kanchan', 22, 'Ghaziabad', 65000.0)\n",
      "(3, 'Mark', 29, 'CA', 200000.0)\n"
     ]
    }
   ],
   "source": [
    "results=conn.execute(\"SELECT * FROM Employees order by NAME ASC\")\n",
    "for i in results:\n",
    "    print(i)"
   ]
  },
  {
   "cell_type": "code",
   "execution_count": 27,
   "id": "7b547768",
   "metadata": {},
   "outputs": [
    {
     "name": "stdout",
     "output_type": "stream",
     "text": [
      "(3, 'Mark', 29, 'CA', 200000.0)\n",
      "(4, 'Kanchan', 22, 'Ghaziabad', 65000.0)\n",
      "(2, 'Allen', 22, 'London', 25000.0)\n",
      "(1, 'Ajeet', 27, 'Delhi', 20000.0)\n"
     ]
    }
   ],
   "source": [
    "results=conn.execute(\"SELECT * FROM Employees ORDER BY SALARY DESC\")\n",
    "for i in results:\n",
    "    print(i)"
   ]
  },
  {
   "cell_type": "code",
   "execution_count": null,
   "id": "9a7ddc93",
   "metadata": {},
   "outputs": [],
   "source": []
  },
  {
   "cell_type": "code",
   "execution_count": 29,
   "id": "3aa42b18",
   "metadata": {},
   "outputs": [
    {
     "name": "stdout",
     "output_type": "stream",
     "text": [
      "(1, 'Ajeet', 27, 'Delhi', 20000.0)\n",
      "(2, 'Allen', 22, 'London', 25000.0)\n",
      "(3, 'Mark', 29, 'CA', 200000.0)\n"
     ]
    }
   ],
   "source": [
    "results=conn.execute(\"SELECT * FROM Employees LIMIT 3\")\n",
    "for i in results:\n",
    "    print(i)"
   ]
  },
  {
   "cell_type": "code",
   "execution_count": null,
   "id": "ebf822e2",
   "metadata": {},
   "outputs": [],
   "source": []
  },
  {
   "cell_type": "code",
   "execution_count": 30,
   "id": "736128a9",
   "metadata": {},
   "outputs": [
    {
     "name": "stdout",
     "output_type": "stream",
     "text": [
      "(2, 'Allen', 22, 'London', 25000.0)\n",
      "(4, 'Kanchan', 22, 'Ghaziabad', 65000.0)\n"
     ]
    }
   ],
   "source": [
    "results=conn.execute(\"SELECT * FROM Employees WHERE SALARY>20000 AND SALARY<=65000\")\n",
    "for i in results:\n",
    "    print(i)"
   ]
  },
  {
   "cell_type": "code",
   "execution_count": 31,
   "id": "0a6cceff",
   "metadata": {},
   "outputs": [],
   "source": [
    "results=conn.execute(\"SELECT * FROM Employees WHERE ID=1 AND NAME='Allen'\")\n",
    "for i in results:\n",
    "    print(i)"
   ]
  },
  {
   "cell_type": "code",
   "execution_count": 33,
   "id": "10955f9c",
   "metadata": {},
   "outputs": [
    {
     "name": "stdout",
     "output_type": "stream",
     "text": [
      "(1, 'Ajeet', 27, 'Delhi', 20000.0)\n",
      "(2, 'Allen', 22, 'London', 25000.0)\n",
      "(3, 'Mark', 29, 'CA', 200000.0)\n",
      "(4, 'Kanchan', 22, 'Ghaziabad', 65000.0)\n"
     ]
    }
   ],
   "source": [
    "results=conn.execute(\"SELECT * FROM Employees WHERE SALARY IS NOT NULL\")\n",
    "for i in results:\n",
    "    print(i)"
   ]
  },
  {
   "cell_type": "code",
   "execution_count": 34,
   "id": "95b595e5",
   "metadata": {},
   "outputs": [
    {
     "name": "stdout",
     "output_type": "stream",
     "text": [
      "(1, 'Ajeet', 27, 'Delhi', 20000.0)\n",
      "(2, 'Allen', 22, 'London', 25000.0)\n"
     ]
    }
   ],
   "source": [
    "results=conn.execute(\"SELECT * FROM Employees WHERE ID=1 OR NAME='Allen'\")\n",
    "for i in results:\n",
    "    print(i)"
   ]
  },
  {
   "cell_type": "code",
   "execution_count": null,
   "id": "0ee7daca",
   "metadata": {},
   "outputs": [],
   "source": []
  },
  {
   "cell_type": "code",
   "execution_count": 35,
   "id": "b719ea4d",
   "metadata": {},
   "outputs": [
    {
     "data": {
      "text/plain": [
       "(20000.0,)"
      ]
     },
     "execution_count": 35,
     "metadata": {},
     "output_type": "execute_result"
    }
   ],
   "source": [
    "results=conn.execute(\"SELECT MIN(SALARY) FROM Employees\")\n",
    "results.fetchone()"
   ]
  },
  {
   "cell_type": "code",
   "execution_count": 36,
   "id": "bdcc06c2",
   "metadata": {},
   "outputs": [
    {
     "data": {
      "text/plain": [
       "(200000.0,)"
      ]
     },
     "execution_count": 36,
     "metadata": {},
     "output_type": "execute_result"
    }
   ],
   "source": [
    "results=conn.execute(\"SELECT MAX(SALARY) FROM Employees\")\n",
    "results.fetchone()"
   ]
  },
  {
   "cell_type": "code",
   "execution_count": 37,
   "id": "05b4c7b2",
   "metadata": {},
   "outputs": [
    {
     "data": {
      "text/plain": [
       "(77500.0,)"
      ]
     },
     "execution_count": 37,
     "metadata": {},
     "output_type": "execute_result"
    }
   ],
   "source": [
    "results=conn.execute(\"SELECT AVG(SALARY) FROM Employees\")\n",
    "results.fetchone()"
   ]
  },
  {
   "cell_type": "code",
   "execution_count": 38,
   "id": "14b26e1a",
   "metadata": {},
   "outputs": [
    {
     "data": {
      "text/plain": [
       "(310000.0,)"
      ]
     },
     "execution_count": 38,
     "metadata": {},
     "output_type": "execute_result"
    }
   ],
   "source": [
    "results=conn.execute(\"SELECT SUM(SALARY) FROM Employees\")\n",
    "results.fetchone()"
   ]
  },
  {
   "cell_type": "code",
   "execution_count": 43,
   "id": "5d53ca2b",
   "metadata": {},
   "outputs": [
    {
     "name": "stdout",
     "output_type": "stream",
     "text": [
      "(1, 'Ajeet', 27, 'Delhi', 20000.0)\n",
      "(2, 'Allen', 22, 'London', 25000.0)\n"
     ]
    }
   ],
   "source": [
    "results=conn.execute(\"SELECT * FROM Employees WHERE SALARY BETWEEN 20000 AND 25000\")\n",
    "for i in results:\n",
    "    print(i)"
   ]
  },
  {
   "cell_type": "code",
   "execution_count": 45,
   "id": "da52e2b3",
   "metadata": {},
   "outputs": [
    {
     "name": "stdout",
     "output_type": "stream",
     "text": [
      "(1, 'Ajeet', 27, 'Delhi', 20000.0)\n",
      "(2, 'Allen', 22, 'London', 25000.0)\n",
      "(3, 'Mark', 29, 'CA', 200000.0)\n"
     ]
    }
   ],
   "source": [
    "results=conn.execute(\"SELECT * FROM Employees WHERE ID BETWEEN 1 AND 3\")\n",
    "for i in results:\n",
    "    print(i)"
   ]
  },
  {
   "cell_type": "code",
   "execution_count": null,
   "id": "1d9ca929",
   "metadata": {},
   "outputs": [],
   "source": []
  },
  {
   "cell_type": "code",
   "execution_count": 49,
   "id": "ea80724b",
   "metadata": {},
   "outputs": [
    {
     "name": "stdout",
     "output_type": "stream",
     "text": [
      "(1, 'Ajeet', 27, 'Delhi', 20000.0)\n",
      "(2, 'Allen', 22, 'London', 25000.0)\n"
     ]
    }
   ],
   "source": [
    "results=conn.execute(\"SELECT * FROM Employees WHERE NAME LIKE 'A%'\")\n",
    "for i in results:\n",
    "    print(i)"
   ]
  },
  {
   "cell_type": "code",
   "execution_count": 50,
   "id": "794aa05d",
   "metadata": {},
   "outputs": [
    {
     "name": "stdout",
     "output_type": "stream",
     "text": [
      "(2, 'Allen', 22, 'London', 25000.0)\n"
     ]
    }
   ],
   "source": [
    "results=conn.execute(\"SELECT * FROM Employees WHERE ADDRESS LIKE '%on%'\")\n",
    "for i in results:\n",
    "    print(i)"
   ]
  },
  {
   "cell_type": "code",
   "execution_count": 51,
   "id": "1bfbeca2",
   "metadata": {},
   "outputs": [
    {
     "name": "stdout",
     "output_type": "stream",
     "text": [
      "(3, 'Mark', 29, 'CA', 200000.0)\n"
     ]
    }
   ],
   "source": [
    "results=conn.execute(\"SELECT * FROM Employees WHERE NAME LIKE 'M%'\")\n",
    "for i in results:\n",
    "    print(i)"
   ]
  },
  {
   "cell_type": "code",
   "execution_count": 53,
   "id": "74a80ea0",
   "metadata": {},
   "outputs": [
    {
     "name": "stdout",
     "output_type": "stream",
     "text": [
      "(2, 'Allen', 22, 'London', 25000.0)\n"
     ]
    }
   ],
   "source": [
    "results=conn.execute(\"SELECT * FROM Employees WHERE NAME LIKE '__l%'\")\n",
    "for i in results:\n",
    "    print(i)"
   ]
  },
  {
   "cell_type": "code",
   "execution_count": 54,
   "id": "4690ca91",
   "metadata": {},
   "outputs": [
    {
     "name": "stdout",
     "output_type": "stream",
     "text": [
      "(2, 'Allen', 22, 'London', 25000.0)\n",
      "(4, 'Kanchan', 22, 'Ghaziabad', 65000.0)\n"
     ]
    }
   ],
   "source": [
    "results=conn.execute(\"SELECT * FROM Employees WHERE NAME LIKE '%n'\")\n",
    "for i in results:\n",
    "    print(i)"
   ]
  },
  {
   "cell_type": "code",
   "execution_count": 55,
   "id": "0c9e35b1",
   "metadata": {},
   "outputs": [
    {
     "name": "stdout",
     "output_type": "stream",
     "text": [
      "(1, 'Ajeet', 27, 'Delhi', 20000.0)\n",
      "(2, 'Allen', 22, 'London', 25000.0)\n",
      "(3, 'Mark', 29, 'CA', 200000.0)\n",
      "(4, 'Kanchan', 22, 'Ghaziabad', 65000.0)\n"
     ]
    }
   ],
   "source": [
    "results=conn.execute(\"SELECT * FROM Employees WHERE NAME LIKE '%'\")\n",
    "for i in results:\n",
    "    print(i)"
   ]
  },
  {
   "cell_type": "code",
   "execution_count": 57,
   "id": "8d306ea1",
   "metadata": {},
   "outputs": [
    {
     "name": "stdout",
     "output_type": "stream",
     "text": [
      "(3, 'Mark', 29, 'CA', 200000.0)\n"
     ]
    }
   ],
   "source": [
    "results=conn.execute(\"SELECT * FROM Employees WHERE NAME LIKE '____'\")\n",
    "for i in results:\n",
    "    print(i)"
   ]
  },
  {
   "cell_type": "code",
   "execution_count": 58,
   "id": "1ec748ec",
   "metadata": {},
   "outputs": [
    {
     "name": "stdout",
     "output_type": "stream",
     "text": [
      "(1, 'Ajeet', 27, 'Delhi', 20000.0)\n",
      "(3, 'Mark', 29, 'CA', 200000.0)\n",
      "(4, 'Kanchan', 22, 'Ghaziabad', 65000.0)\n"
     ]
    }
   ],
   "source": [
    "results=conn.execute(\"SELECT * FROM Employees WHERE NAME NOT IN('Allen')\")\n",
    "for i in results:\n",
    "    print(i)"
   ]
  },
  {
   "cell_type": "code",
   "execution_count": null,
   "id": "849da81c",
   "metadata": {},
   "outputs": [],
   "source": []
  },
  {
   "cell_type": "code",
   "execution_count": null,
   "id": "d8f17c83",
   "metadata": {},
   "outputs": [],
   "source": [
    "#Update the entries"
   ]
  },
  {
   "cell_type": "code",
   "execution_count": 60,
   "id": "e3905883",
   "metadata": {},
   "outputs": [
    {
     "name": "stdout",
     "output_type": "stream",
     "text": [
      "(1, 'Ajeet', 27, 'Delhi', 30000.0)\n",
      "(2, 'Allen', 22, 'London', 25000.0)\n",
      "(3, 'Mark', 29, 'CA', 200000.0)\n",
      "(4, 'Kanchan', 22, 'Ghaziabad', 65000.0)\n"
     ]
    }
   ],
   "source": [
    "sql=\"UPDATE Employees SET SALARY=30000 WHERE NAME='Ajeet'\"\n",
    "conn.execute(sql)\n",
    "results=conn.execute(\"SELECT * FROM Employees\")\n",
    "for i in results:\n",
    "    print(i)"
   ]
  },
  {
   "cell_type": "code",
   "execution_count": null,
   "id": "470182dd",
   "metadata": {},
   "outputs": [],
   "source": []
  },
  {
   "cell_type": "code",
   "execution_count": null,
   "id": "e3d53822",
   "metadata": {},
   "outputs": [],
   "source": [
    "#deleting records"
   ]
  },
  {
   "cell_type": "code",
   "execution_count": 62,
   "id": "1c811fb0",
   "metadata": {},
   "outputs": [
    {
     "name": "stdout",
     "output_type": "stream",
     "text": [
      "(1, 'Ajeet', 27, 'Delhi', 30000.0)\n",
      "(3, 'Mark', 29, 'CA', 200000.0)\n",
      "(4, 'Kanchan', 22, 'Ghaziabad', 65000.0)\n"
     ]
    }
   ],
   "source": [
    "sql=\"delete from Employees where id='2'\"\n",
    "conn.execute(sql)\n",
    "results=conn.execute(\"SELECT * FROM Employees\")\n",
    "for i in results:\n",
    "    print(i)"
   ]
  },
  {
   "cell_type": "code",
   "execution_count": null,
   "id": "26f154ff",
   "metadata": {},
   "outputs": [],
   "source": []
  },
  {
   "cell_type": "code",
   "execution_count": null,
   "id": "67598bb1",
   "metadata": {},
   "outputs": [],
   "source": []
  },
  {
   "cell_type": "code",
   "execution_count": null,
   "id": "fe031f85",
   "metadata": {},
   "outputs": [],
   "source": []
  },
  {
   "cell_type": "code",
   "execution_count": null,
   "id": "fdd205b1",
   "metadata": {},
   "outputs": [],
   "source": []
  },
  {
   "cell_type": "code",
   "execution_count": null,
   "id": "82e49bf0",
   "metadata": {},
   "outputs": [],
   "source": []
  },
  {
   "cell_type": "code",
   "execution_count": null,
   "id": "9af77739",
   "metadata": {},
   "outputs": [],
   "source": []
  },
  {
   "cell_type": "code",
   "execution_count": null,
   "id": "78fbf8dc",
   "metadata": {},
   "outputs": [],
   "source": []
  },
  {
   "cell_type": "code",
   "execution_count": null,
   "id": "814cd7d3",
   "metadata": {},
   "outputs": [],
   "source": []
  },
  {
   "cell_type": "code",
   "execution_count": null,
   "id": "674210a5",
   "metadata": {},
   "outputs": [],
   "source": []
  },
  {
   "cell_type": "code",
   "execution_count": null,
   "id": "272f8a6f",
   "metadata": {},
   "outputs": [],
   "source": []
  },
  {
   "cell_type": "code",
   "execution_count": null,
   "id": "99498606",
   "metadata": {},
   "outputs": [],
   "source": []
  },
  {
   "cell_type": "code",
   "execution_count": null,
   "id": "08819fdd",
   "metadata": {},
   "outputs": [],
   "source": []
  },
  {
   "cell_type": "code",
   "execution_count": null,
   "id": "2499c9dd",
   "metadata": {},
   "outputs": [],
   "source": []
  },
  {
   "cell_type": "code",
   "execution_count": null,
   "id": "4c2fb3a0",
   "metadata": {},
   "outputs": [],
   "source": []
  },
  {
   "cell_type": "code",
   "execution_count": null,
   "id": "b05a16a5",
   "metadata": {},
   "outputs": [],
   "source": []
  },
  {
   "cell_type": "code",
   "execution_count": null,
   "id": "8f31087f",
   "metadata": {},
   "outputs": [],
   "source": []
  }
 ],
 "metadata": {
  "kernelspec": {
   "display_name": "Python 3 (ipykernel)",
   "language": "python",
   "name": "python3"
  },
  "language_info": {
   "codemirror_mode": {
    "name": "ipython",
    "version": 3
   },
   "file_extension": ".py",
   "mimetype": "text/x-python",
   "name": "python",
   "nbconvert_exporter": "python",
   "pygments_lexer": "ipython3",
   "version": "3.9.12"
  }
 },
 "nbformat": 4,
 "nbformat_minor": 5
}
